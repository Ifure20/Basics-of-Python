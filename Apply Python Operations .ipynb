{
 "cells": [
  {
   "cell_type": "code",
   "execution_count": 1,
   "metadata": {},
   "outputs": [
    {
     "name": "stdout",
     "output_type": "stream",
     "text": [
      "Harmony\n"
     ]
    }
   ],
   "source": [
    "#Creating a Variable called name\n",
    "name='Harmony'\n",
    "print(name)"
   ]
  },
  {
   "cell_type": "code",
   "execution_count": 3,
   "metadata": {},
   "outputs": [
    {
     "name": "stdout",
     "output_type": "stream",
     "text": [
      "area of rectangle is 39.6\n"
     ]
    }
   ],
   "source": [
    "#Calculating area of rectangle\n",
    "w=5.5\n",
    "h=7.2\n",
    "Area=(w*h)\n",
    "print('area of rectangle is',Area)"
   ]
  },
  {
   "cell_type": "code",
   "execution_count": 13,
   "metadata": {},
   "outputs": [
    {
     "name": "stdout",
     "output_type": "stream",
     "text": [
      "I am brilliant\n"
     ]
    }
   ],
   "source": [
    "#Creating a string variable called Sentence\n",
    "sentence=str('I am brilliant')\n",
    "print(sentence)"
   ]
  },
  {
   "cell_type": "code",
   "execution_count": 14,
   "metadata": {},
   "outputs": [
    {
     "name": "stdout",
     "output_type": "stream",
     "text": [
      "['orange', 'grape', 'pineapple', 'apple']\n"
     ]
    }
   ],
   "source": [
    "#Creating list of my favorite fruit\n",
    "fruit=['orange','grape','pineapple','apple']\n",
    "print(fruit)"
   ]
  },
  {
   "cell_type": "code",
   "execution_count": 15,
   "metadata": {},
   "outputs": [
    {
     "name": "stdout",
     "output_type": "stream",
     "text": [
      "['orange', 'grape', 'pineapple', 'apple', 'mango']\n"
     ]
    }
   ],
   "source": [
    "#Adding a new fruit to my favorite fruit\n",
    "fruit.append('mango')\n",
    "print(fruit)"
   ]
  },
  {
   "cell_type": "code",
   "execution_count": 16,
   "metadata": {},
   "outputs": [
    {
     "name": "stdout",
     "output_type": "stream",
     "text": [
      "['orange', 'pineapple', 'apple', 'mango']\n"
     ]
    }
   ],
   "source": [
    "#Removing fruit from list of my favorite fruit\n",
    "fruit.remove('grape')\n",
    "print(fruit)"
   ]
  },
  {
   "cell_type": "code",
   "execution_count": 18,
   "metadata": {},
   "outputs": [
    {
     "name": "stdout",
     "output_type": "stream",
     "text": [
      "20\n"
     ]
    }
   ],
   "source": [
    "#Creating a sum of a list\n",
    "numbers=[2,4,6,8]\n",
    "sum_of_numbers=sum(numbers)\n",
    "print(sum_of_numbers)"
   ]
  },
  {
   "cell_type": "code",
   "execution_count": 20,
   "metadata": {},
   "outputs": [
    {
     "name": "stdout",
     "output_type": "stream",
     "text": [
      "1\n",
      "2\n",
      "3\n",
      "4\n",
      "5\n",
      "6\n",
      "7\n",
      "8\n",
      "9\n",
      "10\n"
     ]
    }
   ],
   "source": [
    "#Creating a loop\n",
    "for i in range(1,11):\n",
    "    print(i)"
   ]
  },
  {
   "cell_type": "code",
   "execution_count": 24,
   "metadata": {},
   "outputs": [
    {
     "name": "stdout",
     "output_type": "stream",
     "text": [
      "White,Lemon,Blue\n"
     ]
    }
   ],
   "source": [
    "#Creating a tuple of colors\n",
    "Tuple_1=('White,Lemon,Blue')\n",
    "print(Tuple_1)"
   ]
  },
  {
   "cell_type": "markdown",
   "metadata": {},
   "source": [
    "#Trying to change a value of color in a Tuple\n",
    "Tuple is unchangeable\n",
    "\n"
   ]
  },
  {
   "cell_type": "code",
   "execution_count": 30,
   "metadata": {},
   "outputs": [
    {
     "name": "stdout",
     "output_type": "stream",
     "text": [
      "('Best Bite', 'Comprehensive Math', 'The Girl Child')\n"
     ]
    }
   ],
   "source": [
    "#Creating a Tuple of my favorite book\n",
    "Tuple_B=('Best Bite', 'Comprehensive Math','The Girl Child')\n",
    "print(Tuple_B)"
   ]
  },
  {
   "cell_type": "code",
   "execution_count": 31,
   "metadata": {},
   "outputs": [
    {
     "name": "stdout",
     "output_type": "stream",
     "text": [
      "['Best Bite', 'Comprehensive Math', 'The Girl Child']\n",
      "<class 'list'>\n"
     ]
    }
   ],
   "source": [
    "#Switching Tuple to List\n",
    "List_1=list(Tuple_B)\n",
    "print(List_1)\n",
    "print(type(List_1))"
   ]
  },
  {
   "cell_type": "code",
   "execution_count": 33,
   "metadata": {},
   "outputs": [
    {
     "name": "stdout",
     "output_type": "stream",
     "text": [
      "('Best Bite', 'Comprehensive Math', 'The Girl Child')\n"
     ]
    }
   ],
   "source": [
    "#Switching List yo Tuple\n",
    "Tuple_1=tuple(List_1)\n",
    "print(Tuple_1)"
   ]
  },
  {
   "cell_type": "code",
   "execution_count": 36,
   "metadata": {},
   "outputs": [
    {
     "name": "stdout",
     "output_type": "stream",
     "text": [
      "Quotient: 20\n",
      "Remainder: 5\n"
     ]
    }
   ],
   "source": [
    "#Finding Quotient and Remainder\n",
    "n=145\n",
    "m=7\n",
    "q,r=divmod(145,7)\n",
    "print(\"Quotient:\",q)\n",
    "print(\"Remainder:\",r)"
   ]
  },
  {
   "cell_type": "code",
   "execution_count": 1,
   "metadata": {
    "scrolled": true
   },
   "outputs": [
    {
     "name": "stdout",
     "output_type": "stream",
     "text": [
      "number:21\n",
      "the number is odd\n"
     ]
    }
   ],
   "source": [
    "#Checking if a number is odd or even\n",
    "num=int(input(\"number:\"))\n",
    "if(num%2)==0:\n",
    "    print(\"the number is even\")\n",
    "else:\n",
    "    print(\"the number is odd\")\n",
    "\n",
    "\n",
    "    "
   ]
  },
  {
   "cell_type": "code",
   "execution_count": 2,
   "metadata": {},
   "outputs": [
    {
     "name": "stdout",
     "output_type": "stream",
     "text": [
      "100\n"
     ]
    }
   ],
   "source": [
    "#checking x to the power of y\n",
    "x=10\n",
    "y=2\n",
    "print(10**2)"
   ]
  },
  {
   "cell_type": "code",
   "execution_count": 4,
   "metadata": {
    "scrolled": false
   },
   "outputs": [
    {
     "name": "stdout",
     "output_type": "stream",
     "text": [
      "r:6\n",
      "the area of the circle is 113.09724\n"
     ]
    }
   ],
   "source": [
    "#Calculating area of circle\n",
    "r=int(input(\"r:\"))\n",
    "area=3.14159*r**2\n",
    "print('the area of the circle is', area)\n"
   ]
  }
 ],
 "metadata": {
  "kernelspec": {
   "display_name": "Python 3 (ipykernel)",
   "language": "python",
   "name": "python3"
  },
  "language_info": {
   "codemirror_mode": {
    "name": "ipython",
    "version": 3
   },
   "file_extension": ".py",
   "mimetype": "text/x-python",
   "name": "python",
   "nbconvert_exporter": "python",
   "pygments_lexer": "ipython3",
   "version": "3.11.0"
  }
 },
 "nbformat": 4,
 "nbformat_minor": 2
}
